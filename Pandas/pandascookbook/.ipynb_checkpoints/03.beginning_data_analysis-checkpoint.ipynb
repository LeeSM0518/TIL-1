{
 "cells": [
  {
   "cell_type": "markdown",
   "metadata": {},
   "source": [
    "# 데이터 분석 시작"
   ]
  },
  {
   "cell_type": "markdown",
   "metadata": {},
   "source": [
    "## 소개\n",
    "이 장은 새로운 데이터셋을 처음으로 조사할 때 수행해야 할 과제들에 대해 알아보는 것으로 시작합니다."
   ]
  },
  {
   "cell_type": "markdown",
   "metadata": {},
   "source": [
    "## 데이터 분석 루틴 개발\n",
    "데이터 분석에 대한 표준적인 방식은 없지만 대개 데이터셋을 처음 관찰할 때 수행할 일련의 루틴을 개발해두는 것이 좋습니다. 이는 새로운 데이터셋에 보다 빨리 익숙해지는 데 도움이 됩니다."
   ]
  },
  {
   "cell_type": "markdown",
   "metadata": {},
   "source": [
    "### 준비단계\n",
    "**탐색적 데이터 분석(Exploratory Data Analysis, EDA)**는 데이터를 분석하는 모든 절차를 통칭해 부르는 용어입니다. 이 레시피는 EDA 중 작지만 근본적인 부분인 **메타 데이터(metadata)**의 수집과 단일 변량 기술 통계량을 루틴하고 체계적인 방법을 사용합니다. 여기서는 데이터셋을 DataFrame으로 처음 임포트 할 때 수행해야 할 일반적이고 공통적인 과제를 보여줍니다.\n",
    "> 메타 데이터는 데이터셋을 설명하는 데이터입니다. 메타 데이터의 종류에는 열/행의 개수, 열 이름, 각 열의 데이터 형식, 데이터셋의 소스, 수집일, 서로 다른 열의 허용 가능 값 등이 있습니다.\n",
    "\n",
    "> 일변량 기술 통계량은 데이터셋의 개별 변수(열)에 관한 요약 통계량이며, 다른 모든 변수에 대해 독립적이다."
   ]
  },
  {
   "cell_type": "markdown",
   "metadata": {},
   "source": [
    "### 방법\n",
    "먼저 대학 데이터셋에 대한 메타 데이터를 수집하고 각 열에 대해 기본적 요약 통계량을 구합니다."
   ]
  },
  {
   "cell_type": "code",
   "execution_count": null,
   "metadata": {},
   "outputs": [],
   "source": []
  }
 ],
 "metadata": {
  "kernelspec": {
   "display_name": "Python 3",
   "language": "python",
   "name": "python3"
  },
  "language_info": {
   "codemirror_mode": {
    "name": "ipython",
    "version": 3
   },
   "file_extension": ".py",
   "mimetype": "text/x-python",
   "name": "python",
   "nbconvert_exporter": "python",
   "pygments_lexer": "ipython3",
   "version": "3.7.0"
  }
 },
 "nbformat": 4,
 "nbformat_minor": 2
}
